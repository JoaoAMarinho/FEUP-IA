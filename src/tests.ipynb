{
 "cells": [
  {
   "cell_type": "code",
   "execution_count": 1,
   "metadata": {},
   "outputs": [
    {
     "name": "stdout",
     "output_type": "stream",
     "text": [
      "[-2, 0, 0, 0, 3]\n",
      "[1, 1, 1, 2, 2]\n"
     ]
    }
   ],
   "source": [
    "from model.DataCenter import DataCenter\n",
    "\n",
    "data_center = DataCenter('../../inputs/input.txt')\n",
    "for x in data_center.rows: print(x.slots)"
   ]
  },
  {
   "cell_type": "code",
   "execution_count": 22,
   "metadata": {},
   "outputs": [
    {
     "name": "stdout",
     "output_type": "stream",
     "text": [
      "[\n",
      "[-2, 0, 0, 0, 3], \n",
      "[1, 1, 1, 2, 2]]\n"
     ]
    },
    {
     "ename": "TypeError",
     "evalue": "Can't instantiate abstract class HillClimbing with abstract method execute",
     "output_type": "error",
     "traceback": [
      "\u001b[1;31m---------------------------------------------------------------------------\u001b[0m",
      "\u001b[1;31mTypeError\u001b[0m                                 Traceback (most recent call last)",
      "\u001b[1;32mc:\\Users\\beatr\\IntelligentMindsArtificialSolutions\\src\\tests.ipynb Cell 2'\u001b[0m in \u001b[0;36m<cell line: 27>\u001b[1;34m()\u001b[0m\n\u001b[0;32m     <a href='vscode-notebook-cell:/c%3A/Users/beatr/IntelligentMindsArtificialSolutions/src/tests.ipynb#ch0000001?line=24'>25</a>\u001b[0m tests \u001b[39m=\u001b[39m [test_read_rows, test_read_pool, test_initial_sol,test_hill_climbing]\n\u001b[0;32m     <a href='vscode-notebook-cell:/c%3A/Users/beatr/IntelligentMindsArtificialSolutions/src/tests.ipynb#ch0000001?line=26'>27</a>\u001b[0m \u001b[39mfor\u001b[39;00m test \u001b[39min\u001b[39;00m tests:\n\u001b[1;32m---> <a href='vscode-notebook-cell:/c%3A/Users/beatr/IntelligentMindsArtificialSolutions/src/tests.ipynb#ch0000001?line=27'>28</a>\u001b[0m     test()\n",
      "\u001b[1;32mc:\\Users\\beatr\\IntelligentMindsArtificialSolutions\\src\\tests.ipynb Cell 2'\u001b[0m in \u001b[0;36mtest_hill_climbing\u001b[1;34m()\u001b[0m\n\u001b[0;32m     <a href='vscode-notebook-cell:/c%3A/Users/beatr/IntelligentMindsArtificialSolutions/src/tests.ipynb#ch0000001?line=19'>20</a>\u001b[0m \u001b[39mdef\u001b[39;00m \u001b[39mtest_hill_climbing\u001b[39m():\n\u001b[1;32m---> <a href='vscode-notebook-cell:/c%3A/Users/beatr/IntelligentMindsArtificialSolutions/src/tests.ipynb#ch0000001?line=20'>21</a>\u001b[0m     hill_climbing \u001b[39m=\u001b[39m HillClimbing(initial_sol)\n\u001b[0;32m     <a href='vscode-notebook-cell:/c%3A/Users/beatr/IntelligentMindsArtificialSolutions/src/tests.ipynb#ch0000001?line=21'>22</a>\u001b[0m     sol \u001b[39m=\u001b[39m hill_climbing\u001b[39m.\u001b[39mexecute()\n\u001b[0;32m     <a href='vscode-notebook-cell:/c%3A/Users/beatr/IntelligentMindsArtificialSolutions/src/tests.ipynb#ch0000001?line=22'>23</a>\u001b[0m     \u001b[39mprint\u001b[39m(sol)\n",
      "\u001b[1;31mTypeError\u001b[0m: Can't instantiate abstract class HillClimbing with abstract method execute"
     ]
    }
   ],
   "source": [
    "\"\"\"\n",
    "Test Data Center\n",
    "\"\"\"\n",
    "from model.DataCenter import DataCenter\n",
    "from algorithms.search.HillClimbing import HillClimbing\n",
    "\n",
    "data_center = DataCenter('../../inputs/input.txt')\n",
    "initial_sol = data_center.initial_solution()\n",
    "\n",
    "def test_read_rows():\n",
    "    assert len(data_center.rows) == 2 \n",
    "\n",
    "def test_read_pool():\n",
    "    assert data_center.pools == 2\n",
    "\n",
    "def test_initial_sol():\n",
    "    print(data_center.initial_solution().rows)\n",
    "    pass\n",
    "\n",
    "def test_hill_climbing():\n",
    "    hill_climbing = HillClimbing(initial_sol)\n",
    "    sol = hill_climbing.execute()\n",
    "    print(sol)\n",
    "\n",
    "tests = [test_read_rows, test_read_pool, test_initial_sol,test_hill_climbing]\n",
    "\n",
    "for test in tests:\n",
    "    test()"
   ]
  }
 ],
 "metadata": {
  "interpreter": {
   "hash": "0f4da20e4e7181c865f1d9f9ed5c2ac0aa92a11dcd1ce7fd311dc4224467344f"
  },
  "kernelspec": {
   "display_name": "Python 3.10.4 64-bit (windows store)",
   "language": "python",
   "name": "python3"
  },
  "language_info": {
   "codemirror_mode": {
    "name": "ipython",
    "version": 3
   },
   "file_extension": ".py",
   "mimetype": "text/x-python",
   "name": "python",
   "nbconvert_exporter": "python",
   "pygments_lexer": "ipython3",
   "version": "3.10.2"
  },
  "orig_nbformat": 4
 },
 "nbformat": 4,
 "nbformat_minor": 2
}
