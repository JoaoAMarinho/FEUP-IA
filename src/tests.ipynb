{
 "cells": [
  {
   "cell_type": "code",
   "execution_count": 14,
   "metadata": {},
   "outputs": [
    {
     "name": "stdout",
     "output_type": "stream",
     "text": [
      "[-2, 0, 0, 0, 3]\n",
      "[1, 1, 1, 2, 2]\n"
     ]
    }
   ],
   "source": [
    "from model.DataCenter import DataCenter\n",
    "\n",
    "data_center = DataCenter('../../inputs/input.txt')\n",
    "for x in data_center.rows: print(x.slots)"
   ]
  },
  {
   "cell_type": "code",
   "execution_count": 28,
   "metadata": {},
   "outputs": [
    {
     "name": "stdout",
     "output_type": "stream",
     "text": [
      "-2, 0, 0, 0, 3\n"
     ]
    },
    {
     "ename": "TypeError",
     "evalue": "__repr__ returned non-string (type NoneType)",
     "output_type": "error",
     "traceback": [
      "\u001b[1;31m---------------------------------------------------------------------------\u001b[0m",
      "\u001b[1;31mTypeError\u001b[0m                                 Traceback (most recent call last)",
      "\u001b[1;32md:\\Escola\\Faculdade\\3_Ano\\2_Semestre\\IA\\Projeto\\src\\tests.ipynb Cell 2'\u001b[0m in \u001b[0;36m<cell line: 21>\u001b[1;34m()\u001b[0m\n\u001b[0;32m     <a href='vscode-notebook-cell:/d%3A/Escola/Faculdade/3_Ano/2_Semestre/IA/Projeto/src/tests.ipynb#ch0000001?line=18'>19</a>\u001b[0m tests \u001b[39m=\u001b[39m [test_read_rows, test_read_pool, test_initial_sol]\n\u001b[0;32m     <a href='vscode-notebook-cell:/d%3A/Escola/Faculdade/3_Ano/2_Semestre/IA/Projeto/src/tests.ipynb#ch0000001?line=20'>21</a>\u001b[0m \u001b[39mfor\u001b[39;00m test \u001b[39min\u001b[39;00m tests:\n\u001b[1;32m---> <a href='vscode-notebook-cell:/d%3A/Escola/Faculdade/3_Ano/2_Semestre/IA/Projeto/src/tests.ipynb#ch0000001?line=21'>22</a>\u001b[0m     test()\n",
      "\u001b[1;32md:\\Escola\\Faculdade\\3_Ano\\2_Semestre\\IA\\Projeto\\src\\tests.ipynb Cell 2'\u001b[0m in \u001b[0;36mtest_initial_sol\u001b[1;34m()\u001b[0m\n\u001b[0;32m     <a href='vscode-notebook-cell:/d%3A/Escola/Faculdade/3_Ano/2_Semestre/IA/Projeto/src/tests.ipynb#ch0000001?line=13'>14</a>\u001b[0m \u001b[39mdef\u001b[39;00m \u001b[39mtest_initial_sol\u001b[39m():\n\u001b[1;32m---> <a href='vscode-notebook-cell:/d%3A/Escola/Faculdade/3_Ano/2_Semestre/IA/Projeto/src/tests.ipynb#ch0000001?line=14'>15</a>\u001b[0m     \u001b[39mprint\u001b[39;49m(data_center\u001b[39m.\u001b[39;49msolution[\u001b[39m'\u001b[39;49m\u001b[39mrows\u001b[39;49m\u001b[39m'\u001b[39;49m])\n\u001b[0;32m     <a href='vscode-notebook-cell:/d%3A/Escola/Faculdade/3_Ano/2_Semestre/IA/Projeto/src/tests.ipynb#ch0000001?line=15'>16</a>\u001b[0m     \u001b[39mpass\u001b[39;00m\n",
      "\u001b[1;31mTypeError\u001b[0m: __repr__ returned non-string (type NoneType)"
     ]
    }
   ],
   "source": [
    "\"\"\"\n",
    "Test Data Center\n",
    "\"\"\"\n",
    "from model.DataCenter import DataCenter\n",
    "\n",
    "data_center = DataCenter('../../inputs/input.txt')\n",
    "\n",
    "def test_read_rows():\n",
    "    assert len(data_center.rows) == 2 \n",
    "\n",
    "def test_read_pool():\n",
    "    assert data_center.pools == 2\n",
    "\n",
    "def test_initial_sol():\n",
    "    print(data_center.solution['rows'])\n",
    "    pass\n",
    "\n",
    "\n",
    "tests = [test_read_rows, test_read_pool, test_initial_sol]\n",
    "\n",
    "for test in tests:\n",
    "    test()"
   ]
  }
 ],
 "metadata": {
  "interpreter": {
   "hash": "0f4da20e4e7181c865f1d9f9ed5c2ac0aa92a11dcd1ce7fd311dc4224467344f"
  },
  "kernelspec": {
   "display_name": "Python 3.10.4 64-bit (windows store)",
   "language": "python",
   "name": "python3"
  },
  "language_info": {
   "codemirror_mode": {
    "name": "ipython",
    "version": 3
   },
   "file_extension": ".py",
   "mimetype": "text/x-python",
   "name": "python",
   "nbconvert_exporter": "python",
   "pygments_lexer": "ipython3",
   "version": "3.10.0"
  },
  "orig_nbformat": 4
 },
 "nbformat": 4,
 "nbformat_minor": 2
}
