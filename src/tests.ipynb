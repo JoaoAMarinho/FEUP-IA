{
 "cells": [],
 "metadata": {
  "interpreter": {
   "hash": "0f4da20e4e7181c865f1d9f9ed5c2ac0aa92a11dcd1ce7fd311dc4224467344f"
  },
  "kernelspec": {
   "display_name": "Python 3.10.4 64-bit (windows store)",
   "language": "python",
   "name": "python3"
  },
  "language_info": {
   "codemirror_mode": {
    "name": "ipython",
    "version": 3
   },
   "file_extension": ".py",
   "mimetype": "text/x-python",
   "name": "python",
   "nbconvert_exporter": "python",
   "pygments_lexer": "ipython3",
   "version": "3.10.4"
  },
  "orig_nbformat": 4
 },
 "nbformat": 4,
 "nbformat_minor": 2
}
