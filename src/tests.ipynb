{
 "cells": [
  {
   "cell_type": "code",
   "execution_count": 5,
   "metadata": {},
   "outputs": [
    {
     "name": "stdout",
     "output_type": "stream",
     "text": [
      "[-2, 0, 0, 0, 3]\n",
      "[0, 0, 0, 2, 2]\n"
     ]
    }
   ],
   "source": [
    "from model.DataCenter import DataCenter\n",
    "\n",
    "data_center = DataCenter('../../inputs/input.txt')\n",
    "for x in data_center.rows: print(x.slots)"
   ]
  },
  {
   "cell_type": "code",
   "execution_count": 7,
   "metadata": {},
   "outputs": [
    {
     "ename": "IndexError",
     "evalue": "list index out of range",
     "output_type": "error",
     "traceback": [
      "\u001b[1;31m---------------------------------------------------------------------------\u001b[0m",
      "\u001b[1;31mIndexError\u001b[0m                                Traceback (most recent call last)",
      "\u001b[1;32mc:\\Users\\User\\OneDrive\\Ambiente de Trabalho\\uni\\3leic\\IA\\projects\\IntelligentMindsArtificialSolutions\\src\\tests.ipynb Cell 2'\u001b[0m in \u001b[0;36m<cell line: 3>\u001b[1;34m()\u001b[0m\n\u001b[0;32m      <a href='vscode-notebook-cell:/c%3A/Users/User/OneDrive/Ambiente%20de%20Trabalho/uni/3leic/IA/projects/IntelligentMindsArtificialSolutions/src/tests.ipynb#ch0000001?line=0'>1</a>\u001b[0m \u001b[39mfrom\u001b[39;00m \u001b[39mmodel\u001b[39;00m\u001b[39m.\u001b[39;00m\u001b[39mDataCenter\u001b[39;00m \u001b[39mimport\u001b[39;00m DataCenter\n\u001b[1;32m----> <a href='vscode-notebook-cell:/c%3A/Users/User/OneDrive/Ambiente%20de%20Trabalho/uni/3leic/IA/projects/IntelligentMindsArtificialSolutions/src/tests.ipynb#ch0000001?line=2'>3</a>\u001b[0m data_center \u001b[39m=\u001b[39m DataCenter(\u001b[39m'\u001b[39;49m\u001b[39m../../inputs/input_xl.txt\u001b[39;49m\u001b[39m'\u001b[39;49m)\n\u001b[0;32m      <a href='vscode-notebook-cell:/c%3A/Users/User/OneDrive/Ambiente%20de%20Trabalho/uni/3leic/IA/projects/IntelligentMindsArtificialSolutions/src/tests.ipynb#ch0000001?line=3'>4</a>\u001b[0m \u001b[39mfor\u001b[39;00m x \u001b[39min\u001b[39;00m data_center\u001b[39m.\u001b[39mrows: \u001b[39mprint\u001b[39m(x\u001b[39m.\u001b[39mslots)\n",
      "File \u001b[1;32mc:\\Users\\User\\OneDrive\\Ambiente de Trabalho\\uni\\3leic\\IA\\projects\\IntelligentMindsArtificialSolutions\\src\\model\\DataCenter.py:9\u001b[0m, in \u001b[0;36mDataCenter.__init__\u001b[1;34m(self, filename)\u001b[0m\n\u001b[0;32m      <a href='file:///c%3A/Users/User/OneDrive/Ambiente%20de%20Trabalho/uni/3leic/IA/projects/IntelligentMindsArtificialSolutions/src/model/DataCenter.py?line=6'>7</a>\u001b[0m \u001b[39mself\u001b[39m\u001b[39m.\u001b[39mrows \u001b[39m=\u001b[39m []\n\u001b[0;32m      <a href='file:///c%3A/Users/User/OneDrive/Ambiente%20de%20Trabalho/uni/3leic/IA/projects/IntelligentMindsArtificialSolutions/src/model/DataCenter.py?line=7'>8</a>\u001b[0m \u001b[39mself\u001b[39m\u001b[39m.\u001b[39mservers \u001b[39m=\u001b[39m []\n\u001b[1;32m----> <a href='file:///c%3A/Users/User/OneDrive/Ambiente%20de%20Trabalho/uni/3leic/IA/projects/IntelligentMindsArtificialSolutions/src/model/DataCenter.py?line=8'>9</a>\u001b[0m \u001b[39mself\u001b[39;49m\u001b[39m.\u001b[39;49mparse_file(filename)\n\u001b[0;32m     <a href='file:///c%3A/Users/User/OneDrive/Ambiente%20de%20Trabalho/uni/3leic/IA/projects/IntelligentMindsArtificialSolutions/src/model/DataCenter.py?line=9'>10</a>\u001b[0m \u001b[39mself\u001b[39m\u001b[39m.\u001b[39minitial_solution()\n",
      "File \u001b[1;32mc:\\Users\\User\\OneDrive\\Ambiente de Trabalho\\uni\\3leic\\IA\\projects\\IntelligentMindsArtificialSolutions\\src\\model\\DataCenter.py:22\u001b[0m, in \u001b[0;36mDataCenter.parse_file\u001b[1;34m(self, filename)\u001b[0m\n\u001b[0;32m     <a href='file:///c%3A/Users/User/OneDrive/Ambiente%20de%20Trabalho/uni/3leic/IA/projects/IntelligentMindsArtificialSolutions/src/model/DataCenter.py?line=19'>20</a>\u001b[0m \u001b[39mfor\u001b[39;00m i \u001b[39min\u001b[39;00m \u001b[39mrange\u001b[39m(unavailable):\n\u001b[0;32m     <a href='file:///c%3A/Users/User/OneDrive/Ambiente%20de%20Trabalho/uni/3leic/IA/projects/IntelligentMindsArtificialSolutions/src/model/DataCenter.py?line=20'>21</a>\u001b[0m     slot, row_index \u001b[39m=\u001b[39m \u001b[39mmap\u001b[39m(\u001b[39mint\u001b[39m, file\u001b[39m.\u001b[39mreadline()\u001b[39m.\u001b[39mstrip()\u001b[39m.\u001b[39msplit())\n\u001b[1;32m---> <a href='file:///c%3A/Users/User/OneDrive/Ambiente%20de%20Trabalho/uni/3leic/IA/projects/IntelligentMindsArtificialSolutions/src/model/DataCenter.py?line=21'>22</a>\u001b[0m     row \u001b[39m=\u001b[39m \u001b[39mself\u001b[39;49m\u001b[39m.\u001b[39;49mrows[row_index]\n\u001b[0;32m     <a href='file:///c%3A/Users/User/OneDrive/Ambiente%20de%20Trabalho/uni/3leic/IA/projects/IntelligentMindsArtificialSolutions/src/model/DataCenter.py?line=22'>23</a>\u001b[0m     row\u001b[39m.\u001b[39mset_unavailable(slot)\n\u001b[0;32m     <a href='file:///c%3A/Users/User/OneDrive/Ambiente%20de%20Trabalho/uni/3leic/IA/projects/IntelligentMindsArtificialSolutions/src/model/DataCenter.py?line=24'>25</a>\u001b[0m \u001b[39mfor\u001b[39;00m i \u001b[39min\u001b[39;00m \u001b[39mrange\u001b[39m(servers):\n",
      "\u001b[1;31mIndexError\u001b[0m: list index out of range"
     ]
    }
   ],
   "source": [
    "from model.DataCenter import DataCenter\n",
    "\n",
    "data_center = DataCenter('../../inputs/input_xl.txt')\n",
    "for x in data_center.rows: print(x.slots)"
   ]
  }
 ],
 "metadata": {
  "interpreter": {
   "hash": "0f4da20e4e7181c865f1d9f9ed5c2ac0aa92a11dcd1ce7fd311dc4224467344f"
  },
  "kernelspec": {
   "display_name": "Python 3.10.4 64-bit (windows store)",
   "language": "python",
   "name": "python3"
  },
  "language_info": {
   "codemirror_mode": {
    "name": "ipython",
    "version": 3
   },
   "file_extension": ".py",
   "mimetype": "text/x-python",
   "name": "python",
   "nbconvert_exporter": "python",
   "pygments_lexer": "ipython3",
   "version": "3.10.4"
  },
  "orig_nbformat": 4
 },
 "nbformat": 4,
 "nbformat_minor": 2
}
