{
 "cells": [
  {
   "cell_type": "markdown",
   "metadata": {},
   "source": [
    "# Amazon Reviews for SA fine-grained 5 clases CSV\n"
   ]
  },
  {
   "cell_type": "code",
   "execution_count": 85,
   "metadata": {},
   "outputs": [
    {
     "name": "stderr",
     "output_type": "stream",
     "text": [
      "[nltk_data] Downloading package stopwords to C:\\Users\\Margarida\n",
      "[nltk_data]     Viera\\AppData\\Roaming\\nltk_data...\n",
      "[nltk_data]   Package stopwords is already up-to-date!\n",
      "[nltk_data] Downloading package punkt to C:\\Users\\Margarida\n",
      "[nltk_data]     Viera\\AppData\\Roaming\\nltk_data...\n",
      "[nltk_data]   Unzipping tokenizers\\punkt.zip.\n"
     ]
    }
   ],
   "source": [
    "import seaborn as sb\n",
    "import matplotlib.pyplot as plt\n",
    "\n",
    "import pandas as pd\n",
    "import re\n",
    "\n",
    "import nltk\n",
    "from nltk.tokenize import word_tokenize\n",
    "from nltk.stem.porter import PorterStemmer\n",
    "nltk.download('stopwords')\n",
    "nltk.download('punkt')\n",
    "\n",
    "from sklearn.feature_extraction.text import CountVectorizer\n",
    "\n",
    "#from wordcloud import WordCloud\n"
   ]
  },
  {
   "cell_type": "markdown",
   "metadata": {},
   "source": [
    "## Dataset\n"
   ]
  },
  {
   "cell_type": "code",
   "execution_count": 80,
   "metadata": {},
   "outputs": [],
   "source": [
    "train_df = pd.read_csv('../docs/train.csv')\n",
    "test_df = pd.read_csv('../docs/train.csv')\n"
   ]
  },
  {
   "cell_type": "code",
   "execution_count": 81,
   "metadata": {},
   "outputs": [],
   "source": [
    "# Shorten the number of samples from every class_index type (n = 200000)\n",
    "\n",
    "classes = []\n",
    "n_samples = 100\n",
    "\n",
    "for i in range(1, 6):\n",
    "    classes.append(train_df.query(f'class_index == {i}').sample(n=n_samples))\n",
    "\n",
    "train_df_s = pd.concat(classes)\n",
    "train_df_s.reset_index(drop=True, inplace=True)\n"
   ]
  },
  {
   "cell_type": "markdown",
   "metadata": {},
   "source": [
    "## Exploratory analysis\n"
   ]
  },
  {
   "cell_type": "code",
   "execution_count": 82,
   "metadata": {},
   "outputs": [
    {
     "data": {
      "text/plain": [
       "class_index     0\n",
       "review_title    0\n",
       "review_text     0\n",
       "dtype: int64"
      ]
     },
     "execution_count": 82,
     "metadata": {},
     "output_type": "execute_result"
    }
   ],
   "source": [
    "# checking for presence of null values that might interfere with data processing\n",
    "train_df_s.isna().sum()\n"
   ]
  },
  {
   "cell_type": "code",
   "execution_count": 83,
   "metadata": {},
   "outputs": [
    {
     "data": {
      "text/plain": [
       "Text(0.5, 1.0, 'Rating Distribution')"
      ]
     },
     "execution_count": 83,
     "metadata": {},
     "output_type": "execute_result"
    },
    {
     "data": {
      "image/png": "[encoded data removed]",
      "text/plain": [
       "<Figure size 432x288 with 1 Axes>"
      ]
     },
     "metadata": {
      "needs_background": "light"
     },
     "output_type": "display_data"
    }
   ],
   "source": [
    "sb.countplot(x='class_index', data=train_df_s)\n",
    "plt.title('Rating Distribution')\n"
   ]
  },
  {
   "cell_type": "markdown",
   "metadata": {},
   "source": [
    "## Preprocess data\n"
   ]
  },
  {
   "cell_type": "code",
   "execution_count": 86,
   "metadata": {},
   "outputs": [
    {
     "name": "stderr",
     "output_type": "stream",
     "text": [
      "C:\\Users\\Margarida Viera\\AppData\\Local\\Temp\\ipykernel_8372\\2434474119.py:14: SettingWithCopyWarning: \n",
      "A value is trying to be set on a copy of a slice from a DataFrame\n",
      "\n",
      "See the caveats in the documentation: https://pandas.pydata.org/pandas-docs/stable/user_guide/indexing.html#returning-a-view-versus-a-copy\n",
      "  train_df_s['review_title'][i] = ' '.join(title_stems)\n",
      "C:\\Users\\Margarida Viera\\AppData\\Local\\Temp\\ipykernel_8372\\2434474119.py:20: SettingWithCopyWarning: \n",
      "A value is trying to be set on a copy of a slice from a DataFrame\n",
      "\n",
      "See the caveats in the documentation: https://pandas.pydata.org/pandas-docs/stable/user_guide/indexing.html#returning-a-view-versus-a-copy\n",
      "  train_df_s['review_text'][i] = ' '.join(text_stems)\n",
      "C:\\Users\\Margarida Viera\\AppData\\Local\\Temp\\ipykernel_8372\\2434474119.py:22: SettingWithCopyWarning: \n",
      "A value is trying to be set on a copy of a slice from a DataFrame\n",
      "\n",
      "See the caveats in the documentation: https://pandas.pydata.org/pandas-docs/stable/user_guide/indexing.html#returning-a-view-versus-a-copy\n",
      "  train_df_s['review_full'][i] = f\"{train_df_s['review_title'][i]} {train_df_s['review_text'][i]}\"\n"
     ]
    }
   ],
   "source": [
    "train_df_s['review_full'] = train_df_s['review_title']\n",
    "\n",
    "stop_words = set(nltk.corpus.stopwords.words('english'))\n",
    "\n",
    "stemmer = PorterStemmer()\n",
    "\n",
    "# traversing all dataframe's rows\n",
    "for i in range(train_df_s.shape[0]):\n",
    "\n",
    "    # process review's title\n",
    "    title = re.sub('[^a-zA-Z]', ' ', train_df_s['review_title'][i])\n",
    "    title_tokens = word_tokenize(title)\n",
    "    title_stems = [stemmer.stem(w) for w in title_tokens if w not in stop_words] \n",
    "    train_df_s['review_title'][i] = ' '.join(title_stems)\n",
    "\n",
    "    # process review's text\n",
    "    text = re.sub(\"[^a-zA-Z]\", \" \", train_df_s['review_text'][i])\n",
    "    text_tokens = word_tokenize(text)\n",
    "    text_stems = [stemmer.stem(w) for w in text_tokens if w not in stop_words]\n",
    "    train_df_s['review_text'][i] = ' '.join(text_stems)\n",
    "\n",
    "    train_df_s['review_full'][i] = f\"{train_df_s['review_title'][i]} {train_df_s['review_text'][i]}\"\n"
   ]
  },
  {
   "cell_type": "code",
   "execution_count": 87,
   "metadata": {},
   "outputs": [
    {
     "data": {
      "text/html": [
       "<div>\n",
       "<style scoped>\n",
       "    .dataframe tbody tr th:only-of-type {\n",
       "        vertical-align: middle;\n",
       "    }\n",
       "\n",
       "    .dataframe tbody tr th {\n",
       "        vertical-align: top;\n",
       "    }\n",
       "\n",
       "    .dataframe thead th {\n",
       "        text-align: right;\n",
       "    }\n",
       "</style>\n",
       "<table border=\"1\" class=\"dataframe\">\n",
       "  <thead>\n",
       "    <tr style=\"text-align: right;\">\n",
       "      <th></th>\n",
       "      <th>class_index</th>\n",
       "      <th>review_title</th>\n",
       "      <th>review_text</th>\n",
       "      <th>review_full</th>\n",
       "    </tr>\n",
       "  </thead>\n",
       "  <tbody>\n",
       "    <tr>\n",
       "      <th>0</th>\n",
       "      <td>1</td>\n",
       "      <td>two thumb</td>\n",
       "      <td>read review bought leatherman wave gerber susp...</td>\n",
       "      <td>two thumb read review bought leatherman wave g...</td>\n",
       "    </tr>\n",
       "    <tr>\n",
       "      <th>1</th>\n",
       "      <td>1</td>\n",
       "      <td>surround idiot</td>\n",
       "      <td>i surround mostli idiot i work read idiot acti...</td>\n",
       "      <td>surround idiot i surround mostli idiot i work ...</td>\n",
       "    </tr>\n",
       "    <tr>\n",
       "      <th>2</th>\n",
       "      <td>1</td>\n",
       "      <td>sure work cost</td>\n",
       "      <td>ye magic work parent teach child there much be...</td>\n",
       "      <td>sure work cost ye magic work parent teach chil...</td>\n",
       "    </tr>\n",
       "    <tr>\n",
       "      <th>3</th>\n",
       "      <td>1</td>\n",
       "      <td>realli poor new user</td>\n",
       "      <td>i tend extra gener comment comput book today i...</td>\n",
       "      <td>realli poor new user i tend extra gener commen...</td>\n",
       "    </tr>\n",
       "    <tr>\n",
       "      <th>4</th>\n",
       "      <td>1</td>\n",
       "      <td>expir april</td>\n",
       "      <td>thi pack deal total wast money the pad i recei...</td>\n",
       "      <td>expir april thi pack deal total wast money the...</td>\n",
       "    </tr>\n",
       "    <tr>\n",
       "      <th>...</th>\n",
       "      <td>...</td>\n",
       "      <td>...</td>\n",
       "      <td>...</td>\n",
       "      <td>...</td>\n",
       "    </tr>\n",
       "    <tr>\n",
       "      <th>495</th>\n",
       "      <td>5</td>\n",
       "      <td>pleas someon publish book</td>\n",
       "      <td>i love book much young child final fell apart ...</td>\n",
       "      <td>pleas someon publish book i love book much you...</td>\n",
       "    </tr>\n",
       "    <tr>\n",
       "      <th>496</th>\n",
       "      <td>5</td>\n",
       "      <td>great read</td>\n",
       "      <td>now good book repairman jack fix thing leaki f...</td>\n",
       "      <td>great read now good book repairman jack fix th...</td>\n",
       "    </tr>\n",
       "    <tr>\n",
       "      <th>497</th>\n",
       "      <td>5</td>\n",
       "      <td>a must have for coco fan</td>\n",
       "      <td>thi album favorit coco album right along first...</td>\n",
       "      <td>a must have for coco fan thi album favorit coc...</td>\n",
       "    </tr>\n",
       "    <tr>\n",
       "      <th>498</th>\n",
       "      <td>5</td>\n",
       "      <td>harold maud</td>\n",
       "      <td>wonder abl lay hand in documentari film made t...</td>\n",
       "      <td>harold maud wonder abl lay hand in documentari...</td>\n",
       "    </tr>\n",
       "    <tr>\n",
       "      <th>499</th>\n",
       "      <td>5</td>\n",
       "      <td>awesom read</td>\n",
       "      <td>great book be wv origin daughter coal miner bo...</td>\n",
       "      <td>awesom read great book be wv origin daughter c...</td>\n",
       "    </tr>\n",
       "  </tbody>\n",
       "</table>\n",
       "<p>500 rows × 4 columns</p>\n",
       "</div>"
      ],
      "text/plain": [
       "     class_index               review_title  \\\n",
       "0              1                  two thumb   \n",
       "1              1             surround idiot   \n",
       "2              1             sure work cost   \n",
       "3              1       realli poor new user   \n",
       "4              1                expir april   \n",
       "..           ...                        ...   \n",
       "495            5  pleas someon publish book   \n",
       "496            5                 great read   \n",
       "497            5   a must have for coco fan   \n",
       "498            5                harold maud   \n",
       "499            5                awesom read   \n",
       "\n",
       "                                           review_text  \\\n",
       "0    read review bought leatherman wave gerber susp...   \n",
       "1    i surround mostli idiot i work read idiot acti...   \n",
       "2    ye magic work parent teach child there much be...   \n",
       "3    i tend extra gener comment comput book today i...   \n",
       "4    thi pack deal total wast money the pad i recei...   \n",
       "..                                                 ...   \n",
       "495  i love book much young child final fell apart ...   \n",
       "496  now good book repairman jack fix thing leaki f...   \n",
       "497  thi album favorit coco album right along first...   \n",
       "498  wonder abl lay hand in documentari film made t...   \n",
       "499  great book be wv origin daughter coal miner bo...   \n",
       "\n",
       "                                           review_full  \n",
       "0    two thumb read review bought leatherman wave g...  \n",
       "1    surround idiot i surround mostli idiot i work ...  \n",
       "2    sure work cost ye magic work parent teach chil...  \n",
       "3    realli poor new user i tend extra gener commen...  \n",
       "4    expir april thi pack deal total wast money the...  \n",
       "..                                                 ...  \n",
       "495  pleas someon publish book i love book much you...  \n",
       "496  great read now good book repairman jack fix th...  \n",
       "497  a must have for coco fan thi album favorit coc...  \n",
       "498  harold maud wonder abl lay hand in documentari...  \n",
       "499  awesom read great book be wv origin daughter c...  \n",
       "\n",
       "[500 rows x 4 columns]"
      ]
     },
     "execution_count": 87,
     "metadata": {},
     "output_type": "execute_result"
    }
   ],
   "source": [
    "train_df_s\n"
   ]
  },
  {
   "cell_type": "markdown",
   "metadata": {},
   "source": [
    "## Nabo bais\n"
   ]
  },
  {
   "cell_type": "markdown",
   "metadata": {},
   "source": [
    "## Neural Minds\n"
   ]
  },
  {
   "cell_type": "markdown",
   "metadata": {},
   "source": [
    "## Tree com Ramos\n"
   ]
  }
 ],
 "metadata": {
  "interpreter": {
   "hash": "6111d4c6dbb885f82f170581359db7d779fdb08e793d86d543f28cf7cecf7a39"
  },
  "kernelspec": {
   "display_name": "Python 3.10.2 64-bit",
   "language": "python",
   "name": "python3"
  },
  "language_info": {
   "codemirror_mode": {
    "name": "ipython",
    "version": 3
   },
   "file_extension": ".py",
   "mimetype": "text/x-python",
   "name": "python",
   "nbconvert_exporter": "python",
   "pygments_lexer": "ipython3",
   "version": "3.10.2"
  },
  "orig_nbformat": 4
 },
 "nbformat": 4,
 "nbformat_minor": 2
}
