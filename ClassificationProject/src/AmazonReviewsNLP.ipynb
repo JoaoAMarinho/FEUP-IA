{
 "cells": [
  {
   "cell_type": "markdown",
   "metadata": {},
   "source": [
    "# Amazon Reviews for SA fine-grained 5 clases CSV\n"
   ]
  },
  {
   "cell_type": "code",
   "execution_count": 7,
   "metadata": {},
   "outputs": [
    {
     "name": "stderr",
     "output_type": "stream",
     "text": [
      "[nltk_data] Downloading package stopwords to\n",
      "[nltk_data]     C:\\Users\\joaoa\\AppData\\Roaming\\nltk_data...\n",
      "[nltk_data]   Package stopwords is already up-to-date!\n",
      "[nltk_data] Downloading package punkt to\n",
      "[nltk_data]     C:\\Users\\joaoa\\AppData\\Roaming\\nltk_data...\n",
      "[nltk_data]   Package punkt is already up-to-date!\n"
     ]
    }
   ],
   "source": [
    "import seaborn as sb\n",
    "import matplotlib.pyplot as plt\n",
    "\n",
    "import numpy as np\n",
    "import pandas as pd\n",
    "import re\n",
    "\n",
    "import nltk\n",
    "from nltk.tokenize import word_tokenize\n",
    "from nltk.stem.porter import PorterStemmer\n",
    "nltk.download('stopwords')\n",
    "nltk.download('punkt')\n",
    "\n",
    "from sklearn.pipeline import Pipeline\n",
    "from sklearn.feature_extraction.text import CountVectorizer, TfidfTransformer\n",
    "from sklearn.model_selection import train_test_split\n",
    "from sklearn.naive_bayes import GaussianNB, MultinomialNB\n",
    "from sklearn.tree import DecisionTreeClassifier\n",
    "from sklearn.metrics import confusion_matrix, accuracy_score\n",
    "\n",
    "\n",
    "pd.options.mode.chained_assignment = None\n",
    "from wordcloud import WordCloud\n"
   ]
  },
  {
   "cell_type": "markdown",
   "metadata": {},
   "source": [
    "## Dataset\n"
   ]
  },
  {
   "cell_type": "code",
   "execution_count": 10,
   "metadata": {},
   "outputs": [
    {
     "name": "stdout",
     "output_type": "stream",
     "text": [
      "Empty DataFrame\n",
      "Columns: [class_index, review_title, review_text]\n",
      "Index: []\n"
     ]
    }
   ],
   "source": [
    "train_df = pd.read_csv('../docs/train.csv').dropna()\n",
    "test_df = pd.read_csv('../docs/test.csv').dropna()"
   ]
  },
  {
   "cell_type": "code",
   "execution_count": 12,
   "metadata": {},
   "outputs": [],
   "source": [
    "# Shorten the number of samples from every class_index type (n = 200000)\n",
    "\n",
    "classes = []\n",
    "n_samples = 20000\n",
    "\n",
    "for i in range(1, 6):\n",
    "    classes.append(train_df.query(f'class_index == {i}').sample(n=n_samples))\n",
    "\n",
    "train_df_s = pd.concat(classes)\n",
    "train_df_s.reset_index(drop=True, inplace=True)\n"
   ]
  },
  {
   "cell_type": "markdown",
   "metadata": {},
   "source": [
    "## Exploratory analysis\n"
   ]
  },
  {
   "cell_type": "code",
   "execution_count": 11,
   "metadata": {},
   "outputs": [
    {
     "data": {
      "text/plain": [
       "class_index     0\n",
       "review_title    0\n",
       "review_text     0\n",
       "dtype: int64"
      ]
     },
     "execution_count": 11,
     "metadata": {},
     "output_type": "execute_result"
    }
   ],
   "source": [
    "# checking for presence of null values that might interfere with data processing\n",
    "train_df.isna().sum()"
   ]
  },
  {
   "cell_type": "code",
   "execution_count": 17,
   "metadata": {},
   "outputs": [
    {
     "data": {
      "text/plain": [
       "Text(0.5, 1.0, 'Rating Distribution')"
      ]
     },
     "execution_count": 17,
     "metadata": {},
     "output_type": "execute_result"
    },
    {
     "data": {
      "image/png": "[encoded data removed]",
      "text/plain": [
       "<Figure size 432x288 with 1 Axes>"
      ]
     },
     "metadata": {
      "needs_background": "light"
     },
     "output_type": "display_data"
    }
   ],
   "source": [
    "sb.countplot(x='class_index', data=train_df_s)\n",
    "plt.title('Rating Distribution')\n"
   ]
  },
  {
   "cell_type": "markdown",
   "metadata": {},
   "source": [
    "## Preprocess data\n"
   ]
  },
  {
   "cell_type": "code",
   "execution_count": 13,
   "metadata": {},
   "outputs": [],
   "source": [
    "train_df_s['review_full'] = train_df_s['review_title']\n",
    "\n",
    "stop_words = set(nltk.corpus.stopwords.words('english'))\n",
    "\n",
    "stemmer = PorterStemmer()\n",
    "\n",
    "# traversing all dataframe's rows\n",
    "for i in range(train_df_s.shape[0]):\n",
    "\n",
    "    # process review's title\n",
    "    title = re.sub('[^a-zA-Z]', ' ', train_df_s['review_title'][i])\n",
    "    title_tokens = word_tokenize(title)\n",
    "    title_stems = [stemmer.stem(w) for w in title_tokens if w not in stop_words] \n",
    "    train_df_s['review_title'][i] = ' '.join(title_stems)\n",
    "\n",
    "    # process review's text\n",
    "    text = re.sub(\"[^a-zA-Z]\", \" \", train_df_s['review_text'][i])\n",
    "    text_tokens = word_tokenize(text)\n",
    "    text_stems = [stemmer.stem(w) for w in text_tokens if w not in stop_words]\n",
    "    train_df_s['review_text'][i] = ' '.join(text_stems)\n",
    "\n",
    "    train_df_s['review_full'][i] = f\"{train_df_s['review_title'][i]} {train_df_s['review_text'][i]}\"\n"
   ]
  },
  {
   "cell_type": "code",
   "execution_count": 18,
   "metadata": {},
   "outputs": [
    {
     "data": {
      "text/html": [
       "<div>\n",
       "<style scoped>\n",
       "    .dataframe tbody tr th:only-of-type {\n",
       "        vertical-align: middle;\n",
       "    }\n",
       "\n",
       "    .dataframe tbody tr th {\n",
       "        vertical-align: top;\n",
       "    }\n",
       "\n",
       "    .dataframe thead th {\n",
       "        text-align: right;\n",
       "    }\n",
       "</style>\n",
       "<table border=\"1\" class=\"dataframe\">\n",
       "  <thead>\n",
       "    <tr style=\"text-align: right;\">\n",
       "      <th></th>\n",
       "      <th>class_index</th>\n",
       "      <th>review_title</th>\n",
       "      <th>review_text</th>\n",
       "      <th>review_full</th>\n",
       "    </tr>\n",
       "  </thead>\n",
       "  <tbody>\n",
       "    <tr>\n",
       "      <th>0</th>\n",
       "      <td>1</td>\n",
       "      <td>liter dummi</td>\n",
       "      <td>don wast money seri if realli interest get lib...</td>\n",
       "      <td>liter dummi don wast money seri if realli inte...</td>\n",
       "    </tr>\n",
       "    <tr>\n",
       "      <th>1</th>\n",
       "      <td>1</td>\n",
       "      <td>damp document</td>\n",
       "      <td>i angri product i notic document damp i keep p...</td>\n",
       "      <td>damp document i angri product i notic document...</td>\n",
       "    </tr>\n",
       "    <tr>\n",
       "      <th>2</th>\n",
       "      <td>1</td>\n",
       "      <td>forget thi book</td>\n",
       "      <td>if look well organ effect tool increas read sp...</td>\n",
       "      <td>forget thi book if look well organ effect tool...</td>\n",
       "    </tr>\n",
       "    <tr>\n",
       "      <th>3</th>\n",
       "      <td>1</td>\n",
       "      <td>stickmen</td>\n",
       "      <td>thi movi realli stink pool shoot realli stink ...</td>\n",
       "      <td>stickmen thi movi realli stink pool shoot real...</td>\n",
       "    </tr>\n",
       "    <tr>\n",
       "      <th>4</th>\n",
       "      <td>1</td>\n",
       "      <td>spew steam gooey water counter</td>\n",
       "      <td>thi danger counter top applianc due steam spew...</td>\n",
       "      <td>spew steam gooey water counter thi danger coun...</td>\n",
       "    </tr>\n",
       "    <tr>\n",
       "      <th>...</th>\n",
       "      <td>...</td>\n",
       "      <td>...</td>\n",
       "      <td>...</td>\n",
       "      <td>...</td>\n",
       "    </tr>\n",
       "    <tr>\n",
       "      <th>99995</th>\n",
       "      <td>5</td>\n",
       "      <td>minut chord love</td>\n",
       "      <td>innov sound manipul they pave way artist like ...</td>\n",
       "      <td>minut chord love innov sound manipul they pave...</td>\n",
       "    </tr>\n",
       "    <tr>\n",
       "      <th>99996</th>\n",
       "      <td>5</td>\n",
       "      <td>amaz fighter</td>\n",
       "      <td>think game awesom good depth right fun far one...</td>\n",
       "      <td>amaz fighter think game awesom good depth righ...</td>\n",
       "    </tr>\n",
       "    <tr>\n",
       "      <th>99997</th>\n",
       "      <td>5</td>\n",
       "      <td>so far i love condit have yet finish though</td>\n",
       "      <td>those you fan steven king definit get one one ...</td>\n",
       "      <td>so far i love condit have yet finish though th...</td>\n",
       "    </tr>\n",
       "    <tr>\n",
       "      <th>99998</th>\n",
       "      <td>5</td>\n",
       "      <td>mind bogglin realiti</td>\n",
       "      <td>i well pleas servic i receiv well content book...</td>\n",
       "      <td>mind bogglin realiti i well pleas servic i rec...</td>\n",
       "    </tr>\n",
       "    <tr>\n",
       "      <th>99999</th>\n",
       "      <td>5</td>\n",
       "      <td>thi wonder activ book student</td>\n",
       "      <td>i teach esl advanc grammar class st charl comm...</td>\n",
       "      <td>thi wonder activ book student i teach esl adva...</td>\n",
       "    </tr>\n",
       "  </tbody>\n",
       "</table>\n",
       "<p>100000 rows × 4 columns</p>\n",
       "</div>"
      ],
      "text/plain": [
       "       class_index                                 review_title  \\\n",
       "0                1                                  liter dummi   \n",
       "1                1                                damp document   \n",
       "2                1                              forget thi book   \n",
       "3                1                                     stickmen   \n",
       "4                1               spew steam gooey water counter   \n",
       "...            ...                                          ...   \n",
       "99995            5                             minut chord love   \n",
       "99996            5                                 amaz fighter   \n",
       "99997            5  so far i love condit have yet finish though   \n",
       "99998            5                         mind bogglin realiti   \n",
       "99999            5                thi wonder activ book student   \n",
       "\n",
       "                                             review_text  \\\n",
       "0      don wast money seri if realli interest get lib...   \n",
       "1      i angri product i notic document damp i keep p...   \n",
       "2      if look well organ effect tool increas read sp...   \n",
       "3      thi movi realli stink pool shoot realli stink ...   \n",
       "4      thi danger counter top applianc due steam spew...   \n",
       "...                                                  ...   \n",
       "99995  innov sound manipul they pave way artist like ...   \n",
       "99996  think game awesom good depth right fun far one...   \n",
       "99997  those you fan steven king definit get one one ...   \n",
       "99998  i well pleas servic i receiv well content book...   \n",
       "99999  i teach esl advanc grammar class st charl comm...   \n",
       "\n",
       "                                             review_full  \n",
       "0      liter dummi don wast money seri if realli inte...  \n",
       "1      damp document i angri product i notic document...  \n",
       "2      forget thi book if look well organ effect tool...  \n",
       "3      stickmen thi movi realli stink pool shoot real...  \n",
       "4      spew steam gooey water counter thi danger coun...  \n",
       "...                                                  ...  \n",
       "99995  minut chord love innov sound manipul they pave...  \n",
       "99996  amaz fighter think game awesom good depth righ...  \n",
       "99997  so far i love condit have yet finish though th...  \n",
       "99998  mind bogglin realiti i well pleas servic i rec...  \n",
       "99999  thi wonder activ book student i teach esl adva...  \n",
       "\n",
       "[100000 rows x 4 columns]"
      ]
     },
     "execution_count": 18,
     "metadata": {},
     "output_type": "execute_result"
    }
   ],
   "source": [
    "train_df_s\n"
   ]
  },
  {
   "cell_type": "markdown",
   "metadata": {},
   "source": [
    "## Machine Learning"
   ]
  },
  {
   "cell_type": "markdown",
   "metadata": {},
   "source": [
    "### Train test split"
   ]
  },
  {
   "cell_type": "code",
   "execution_count": 14,
   "metadata": {},
   "outputs": [],
   "source": [
    "corpus = train_df_s['review_full']\n",
    "\n",
    "X = Pipeline([\n",
    "    ('count_vectorizer', CountVectorizer()),\n",
    "    ('tfidf_transformer', TfidfTransformer())\n",
    "]).fit_transform(corpus)\n",
    "y = train_df_s['class_index']\n",
    "\n",
    "\n",
    "# 70% for training and 30% for testing\n",
    "X_train, X_test, y_train, y_test = train_test_split(X, y, test_size=0.2)\n"
   ]
  },
  {
   "cell_type": "markdown",
   "metadata": {},
   "source": [
    "### Naive Bayes\n"
   ]
  },
  {
   "cell_type": "code",
   "execution_count": 15,
   "metadata": {},
   "outputs": [
    {
     "name": "stdout",
     "output_type": "stream",
     "text": [
      "Test score:  0.4569\n",
      "Real values\n",
      " 61400    4\n",
      "36105    2\n",
      "51166    3\n",
      "13317    1\n",
      "74551    4\n",
      "        ..\n",
      "90175    5\n",
      "20418    2\n",
      "83425    5\n",
      "18943    1\n",
      "90505    5\n",
      "Name: class_index, Length: 20000, dtype: int64\n",
      "Predictions\n",
      " [2 2 2 ... 1 1 4]\n"
     ]
    },
    {
     "data": {
      "image/png": "[encoded data removed]",
      "text/plain": [
       "<Figure size 432x288 with 1 Axes>"
      ]
     },
     "metadata": {
      "needs_background": "light"
     },
     "output_type": "display_data"
    }
   ],
   "source": [
    "mnb_model = MultinomialNB().fit(X_train, y_train)\n",
    "y_pred = mnb_model.predict(X_test)\n",
    "\n",
    "test_score = mnb_model.score(X_test, y_test)\n",
    "print('Test score: ', test_score)\n",
    "\n",
    "plt.scatter(y_test, y_pred, alpha=0.5)\n",
    "plt.title('Comparison between real values and model predictions')\n",
    "plt.xlabel('real values')\n",
    "plt.ylabel('predictions')\n",
    "\n",
    "print('Real values\\n', y_test)\n",
    "print('Predictions\\n', y_pred)\n"
   ]
  },
  {
   "cell_type": "markdown",
   "metadata": {},
   "source": [
    "### Decision Tree\n"
   ]
  },
  {
   "cell_type": "code",
   "execution_count": 16,
   "metadata": {},
   "outputs": [
    {
     "name": "stdout",
     "output_type": "stream",
     "text": [
      "0.3459\n",
      "Test score:  0.4569\n"
     ]
    }
   ],
   "source": [
    "dtc_model = DecisionTreeClassifier().fit(X_train, y_train)\n",
    "y_pred = dtc_model.predict(X_test)\n",
    "test_score = mnb_model.score(X_test, y_test)\n",
    "print(accuracy_score(y_test, y_pred))\n",
    "print('Test score: ', test_score)\n"
   ]
  },
  {
   "cell_type": "markdown",
   "metadata": {},
   "source": [
    "### Neural Networks\n"
   ]
  }
 ],
 "metadata": {
  "interpreter": {
   "hash": "4faa59b1914308717cc78f809b0e619aee1c6f74c4ddccad8c7692e74bb65391"
  },
  "kernelspec": {
   "display_name": "Python 3.10.0 64-bit",
   "language": "python",
   "name": "python3"
  },
  "language_info": {
   "codemirror_mode": {
    "name": "ipython",
    "version": 3
   },
   "file_extension": ".py",
   "mimetype": "text/x-python",
   "name": "python",
   "nbconvert_exporter": "python",
   "pygments_lexer": "ipython3",
   "version": "3.10.0"
  },
  "orig_nbformat": 4
 },
 "nbformat": 4,
 "nbformat_minor": 2
}
