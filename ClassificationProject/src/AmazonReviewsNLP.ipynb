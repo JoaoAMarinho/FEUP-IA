{
 "cells": [
  {
   "cell_type": "markdown",
   "metadata": {},
   "source": [
    "# Amazon Reviews for SA fine-grained 5 clases CSV"
   ]
  },
  {
   "cell_type": "code",
   "execution_count": 5,
   "metadata": {},
   "outputs": [
    {
     "name": "stderr",
     "output_type": "stream",
     "text": [
      "[nltk_data] Downloading package stopwords to\n",
      "[nltk_data]     C:\\Users\\joaoa\\AppData\\Roaming\\nltk_data...\n",
      "[nltk_data]   Package stopwords is already up-to-date!\n"
     ]
    }
   ],
   "source": [
    "import pandas as pd\n",
    "import re\n",
    "import nltk\n",
    "nltk.download('stopwords')\n",
    "from nltk.stem.porter import PorterStemmer\n",
    "#from wordcloud import WordCloud\n",
    "import matplotlib.pyplot as plt\n",
    "ps = PorterStemmer()\n",
    "from sklearn.feature_extraction.text import CountVectorizer"
   ]
  },
  {
   "cell_type": "markdown",
   "metadata": {},
   "source": [
    "## Dataset"
   ]
  },
  {
   "cell_type": "code",
   "execution_count": 6,
   "metadata": {},
   "outputs": [],
   "source": [
    "train_df = pd.read_csv('../docs/train.csv')\n",
    "test_df = pd.read_csv('../docs/train.csv')"
   ]
  },
  {
   "cell_type": "code",
   "execution_count": 22,
   "metadata": {},
   "outputs": [],
   "source": [
    "## Shorten the number of samples from every class_index type (n = 200000)\n",
    "\n",
    "classes = []\n",
    "n_samples = 2000\n",
    "\n",
    "for i in range(1, 6):\n",
    "  classes.append(train_df.query(f'class_index == {i}').sample(n=n_samples))\n",
    "\n",
    "train_df_s = pd.concat(classes)"
   ]
  },
  {
   "cell_type": "code",
   "execution_count": 23,
   "metadata": {},
   "outputs": [],
   "source": [
    "train_df_s['review_fulltext'] = train_df_s['review_title'].astype(str) + ' ' + train_df_s['review_text'].astype(str)"
   ]
  },
  {
   "cell_type": "markdown",
   "metadata": {},
   "source": [
    "## Exploratory analysis"
   ]
  },
  {
   "cell_type": "markdown",
   "metadata": {},
   "source": [
    "## Preprocess data"
   ]
  },
  {
   "cell_type": "code",
   "execution_count": 24,
   "metadata": {},
   "outputs": [],
   "source": [
    "train_corpus = []\n",
    "for review in train_df_s['review_fulltext']:\n",
    "    review_corpus = re.sub('[^a-zA-Z]', ' ', review)\n",
    "    review_corpus = review_corpus.lower()\n",
    "    review_corpus = ' '.join([ps.stem(w) for w in review_corpus.split() if not w in set(nltk.corpus.stopwords.words('english'))])\n",
    "    train_corpus.append(review_corpus)\n",
    "\n",
    "train_corpus"
   ]
  },
  {
   "cell_type": "code",
   "execution_count": 21,
   "metadata": {},
   "outputs": [
    {
     "ename": "NameError",
     "evalue": "name 'n_samples' is not defined",
     "output_type": "error",
     "traceback": [
      "\u001b[1;31m---------------------------------------------------------------------------\u001b[0m",
      "\u001b[1;31mNameError\u001b[0m                                 Traceback (most recent call last)",
      "\u001b[1;32md:\\Escola\\Faculdade\\3_Ano\\2_Semestre\\IA\\Projetos\\ClassificationProject\\src\\AmazonReviewsNLP.ipynb Cell 10'\u001b[0m in \u001b[0;36m<cell line: 1>\u001b[1;34m()\u001b[0m\n\u001b[1;32m----> <a href='vscode-notebook-cell:/d%3A/Escola/Faculdade/3_Ano/2_Semestre/IA/Projetos/ClassificationProject/src/AmazonReviewsNLP.ipynb#ch0000014?line=0'>1</a>\u001b[0m \u001b[39mif\u001b[39;00m n_samples\u001b[39m*\u001b[39m\u001b[39mlen\u001b[39m(classes) \u001b[39m!=\u001b[39m \u001b[39mlen\u001b[39m(train_corpus):\n\u001b[0;32m      <a href='vscode-notebook-cell:/d%3A/Escola/Faculdade/3_Ano/2_Semestre/IA/Projetos/ClassificationProject/src/AmazonReviewsNLP.ipynb#ch0000014?line=1'>2</a>\u001b[0m     \u001b[39mprint\u001b[39m(\u001b[39m\"\u001b[39m\u001b[39malgo deu mal\u001b[39m\u001b[39m\"\u001b[39m)\n",
      "\u001b[1;31mNameError\u001b[0m: name 'n_samples' is not defined"
     ]
    }
   ],
   "source": [
    "if n_samples*len(classes) != len(train_corpus):\n",
    "    print(\"algo deu mal\")"
   ]
  },
  {
   "cell_type": "code",
   "execution_count": null,
   "metadata": {},
   "outputs": [],
   "source": []
  },
  {
   "cell_type": "markdown",
   "metadata": {},
   "source": [
    "## Nabo bais"
   ]
  },
  {
   "cell_type": "markdown",
   "metadata": {},
   "source": [
    "## Neural Minds"
   ]
  },
  {
   "cell_type": "markdown",
   "metadata": {},
   "source": [
    "## Tree com Ramos"
   ]
  }
 ],
 "metadata": {
  "interpreter": {
   "hash": "4faa59b1914308717cc78f809b0e619aee1c6f74c4ddccad8c7692e74bb65391"
  },
  "kernelspec": {
   "display_name": "Python 3.10.0 64-bit",
   "language": "python",
   "name": "python3"
  },
  "language_info": {
   "codemirror_mode": {
    "name": "ipython",
    "version": 3
   },
   "file_extension": ".py",
   "mimetype": "text/x-python",
   "name": "python",
   "nbconvert_exporter": "python",
   "pygments_lexer": "ipython3",
   "version": "3.10.0"
  },
  "orig_nbformat": 4
 },
 "nbformat": 4,
 "nbformat_minor": 2
}
