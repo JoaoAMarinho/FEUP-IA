{
 "cells": [
  {
   "cell_type": "markdown",
   "metadata": {},
   "source": [
    "# Amazon Reviews for SA fine-grained 5 clases CSV\n"
   ]
  },
  {
   "cell_type": "code",
   "execution_count": 68,
   "metadata": {},
   "outputs": [
    {
     "name": "stderr",
     "output_type": "stream",
     "text": [
      "[nltk_data] Downloading package stopwords to C:\\Users\\Margarida\n",
      "[nltk_data]     Viera\\AppData\\Roaming\\nltk_data...\n",
      "[nltk_data]   Package stopwords is already up-to-date!\n",
      "[nltk_data] Downloading package wordnet to C:\\Users\\Margarida\n",
      "[nltk_data]     Viera\\AppData\\Roaming\\nltk_data...\n",
      "[nltk_data]   Package wordnet is already up-to-date!\n",
      "[nltk_data] Downloading package omw-1.4 to C:\\Users\\Margarida\n",
      "[nltk_data]     Viera\\AppData\\Roaming\\nltk_data...\n",
      "[nltk_data]   Package omw-1.4 is already up-to-date!\n"
     ]
    },
    {
     "data": {
      "text/plain": [
       "True"
      ]
     },
     "execution_count": 68,
     "metadata": {},
     "output_type": "execute_result"
    }
   ],
   "source": [
    "import seaborn as sb\n",
    "import matplotlib.pyplot as plt\n",
    "\n",
    "import pandas as pd\n",
    "import re\n",
    "\n",
    "import nltk\n",
    "nltk.download('stopwords')\n",
    "nltk.download('wordnet')\n",
    "nltk.download('omw-1.4')\n",
    "from nltk.stem import WordNetLemmatizer\n",
    "from nltk.stem.porter import PorterStemmer\n",
    "\n",
    "from sklearn.feature_extraction.text import CountVectorizer\n",
    "\n",
    "#from wordcloud import WordCloud\n"
   ]
  },
  {
   "cell_type": "markdown",
   "metadata": {},
   "source": [
    "## Dataset\n"
   ]
  },
  {
   "cell_type": "code",
   "execution_count": 69,
   "metadata": {},
   "outputs": [],
   "source": [
    "train_df = pd.read_csv('../docs/train.csv')\n",
    "test_df = pd.read_csv('../docs/train.csv')\n"
   ]
  },
  {
   "cell_type": "code",
   "execution_count": 70,
   "metadata": {},
   "outputs": [],
   "source": [
    "# Shorten the number of samples from every class_index type (n = 200000)\n",
    "\n",
    "classes = []\n",
    "n_samples = 100\n",
    "\n",
    "for i in range(1, 6):\n",
    "    classes.append(train_df.query(f'class_index == {i}').sample(n=n_samples))\n",
    "\n",
    "train_df_s = pd.concat(classes)\n",
    "train_df_s.reset_index(drop=True, inplace=True)"
   ]
  },
  {
   "cell_type": "markdown",
   "metadata": {},
   "source": [
    "## Exploratory analysis\n"
   ]
  },
  {
   "cell_type": "code",
   "execution_count": 71,
   "metadata": {},
   "outputs": [
    {
     "data": {
      "text/plain": [
       "class_index     0\n",
       "review_title    0\n",
       "review_text     0\n",
       "dtype: int64"
      ]
     },
     "execution_count": 71,
     "metadata": {},
     "output_type": "execute_result"
    }
   ],
   "source": [
    "# checking for presence of null values that might interfere with data processing\n",
    "train_df_s.isna().sum()\n"
   ]
  },
  {
   "cell_type": "code",
   "execution_count": 72,
   "metadata": {},
   "outputs": [
    {
     "data": {
      "text/plain": [
       "Text(0.5, 1.0, 'Rating Distribution')"
      ]
     },
     "execution_count": 72,
     "metadata": {},
     "output_type": "execute_result"
    },
    {
     "data": {
      "image/png": "[encoded data removed]",
      "text/plain": [
       "<Figure size 432x288 with 1 Axes>"
      ]
     },
     "metadata": {
      "needs_background": "light"
     },
     "output_type": "display_data"
    }
   ],
   "source": [
    "sb.countplot(x='class_index', data=train_df_s)\n",
    "plt.title('Rating Distribution')\n"
   ]
  },
  {
   "cell_type": "markdown",
   "metadata": {},
   "source": [
    "## Preprocess data\n"
   ]
  },
  {
   "cell_type": "code",
   "execution_count": 73,
   "metadata": {},
   "outputs": [],
   "source": [
    "def tokezine(string):\n",
    "    return string.lower().split()\n",
    "\n",
    "\n",
    "def stem(stemmer, words, stop_words):\n",
    "    return [stemmer.stem(word) for word in words if word not in stop_words]\n",
    "\n",
    "\n",
    "def lemmatize(lemmatizer, words):\n",
    "    return [lemmatizer.lemmatize(word) for word in words]\n"
   ]
  },
  {
   "cell_type": "code",
   "execution_count": 74,
   "metadata": {},
   "outputs": [],
   "source": [
    "train_df_s['review_full'] = train_df_s['review_title']\n",
    "\n",
    "stop_words = set(nltk.corpus.stopwords.words('english'))\n",
    "\n",
    "stemmer = PorterStemmer()\n",
    "lemmatizer = WordNetLemmatizer()\n"
   ]
  },
  {
   "cell_type": "code",
   "execution_count": 77,
   "metadata": {},
   "outputs": [
    {
     "name": "stderr",
     "output_type": "stream",
     "text": [
      "C:\\Users\\Margarida Viera\\AppData\\Local\\Temp\\ipykernel_8372\\3803203982.py:10: SettingWithCopyWarning: \n",
      "A value is trying to be set on a copy of a slice from a DataFrame\n",
      "\n",
      "See the caveats in the documentation: https://pandas.pydata.org/pandas-docs/stable/user_guide/indexing.html#returning-a-view-versus-a-copy\n",
      "  train_df_s['review_title'][i] = title_final\n",
      "C:\\Users\\Margarida Viera\\AppData\\Local\\Temp\\ipykernel_8372\\3803203982.py:18: SettingWithCopyWarning: \n",
      "A value is trying to be set on a copy of a slice from a DataFrame\n",
      "\n",
      "See the caveats in the documentation: https://pandas.pydata.org/pandas-docs/stable/user_guide/indexing.html#returning-a-view-versus-a-copy\n",
      "  train_df_s['review_text'][i] = text_final\n",
      "C:\\Users\\Margarida Viera\\AppData\\Local\\Temp\\ipykernel_8372\\3803203982.py:20: SettingWithCopyWarning: \n",
      "A value is trying to be set on a copy of a slice from a DataFrame\n",
      "\n",
      "See the caveats in the documentation: https://pandas.pydata.org/pandas-docs/stable/user_guide/indexing.html#returning-a-view-versus-a-copy\n",
      "  train_df_s['review_full'][i] = f'{title_final} {text_final}'\n"
     ]
    }
   ],
   "source": [
    "# traversing all dataframe's rows\n",
    "for i in range(train_df_s.shape[0]):\n",
    "\n",
    "    # process review's title\n",
    "    title = re.sub(\"[^a-zA-Z]\", \" \", train_df_s['review_title'][i])\n",
    "    title_tokens = tokezine(title)\n",
    "    title_stems = stem(stemmer, title_tokens, stop_words)\n",
    "    title_lemmas = lemmatize(lemmatizer, title_stems)\n",
    "    title_final = ' '.join(title_lemmas)\n",
    "    train_df_s['review_title'][i] = title_final\n",
    "\n",
    "    # process review's text\n",
    "    text = re.sub(\"[^a-zA-Z]\", \" \", train_df_s['review_text'][i])\n",
    "    text_tokens = tokezine(text)\n",
    "    text_stems = stem(stemmer, text_tokens, stop_words)\n",
    "    text_lemmas = lemmatize(lemmatizer, text_stems)\n",
    "    text_final = ' '.join(text_lemmas)\n",
    "    train_df_s['review_text'][i] = text_final\n",
    "\n",
    "    train_df_s['review_full'][i] = f'{title_final} {text_final}'\n",
    "  "
   ]
  },
  {
   "cell_type": "code",
   "execution_count": 78,
   "metadata": {},
   "outputs": [
    {
     "data": {
      "text/html": [
       "<div>\n",
       "<style scoped>\n",
       "    .dataframe tbody tr th:only-of-type {\n",
       "        vertical-align: middle;\n",
       "    }\n",
       "\n",
       "    .dataframe tbody tr th {\n",
       "        vertical-align: top;\n",
       "    }\n",
       "\n",
       "    .dataframe thead th {\n",
       "        text-align: right;\n",
       "    }\n",
       "</style>\n",
       "<table border=\"1\" class=\"dataframe\">\n",
       "  <thead>\n",
       "    <tr style=\"text-align: right;\">\n",
       "      <th></th>\n",
       "      <th>class_index</th>\n",
       "      <th>review_title</th>\n",
       "      <th>review_text</th>\n",
       "      <th>review_full</th>\n",
       "    </tr>\n",
       "  </thead>\n",
       "  <tbody>\n",
       "    <tr>\n",
       "      <th>0</th>\n",
       "      <td>1</td>\n",
       "      <td>durabl</td>\n",
       "      <td>band last backlight remain stem alway spring b...</td>\n",
       "      <td>durabl band last backlight remain stem alway s...</td>\n",
       "    </tr>\n",
       "    <tr>\n",
       "      <th>1</th>\n",
       "      <td>1</td>\n",
       "      <td>full distort</td>\n",
       "      <td>one thing great u write anyth call book someon...</td>\n",
       "      <td>full distort one thing great u write anyth cal...</td>\n",
       "    </tr>\n",
       "    <tr>\n",
       "      <th>2</th>\n",
       "      <td>1</td>\n",
       "      <td></td>\n",
       "      <td>order wrong one shipper advertis adapt rd gene...</td>\n",
       "      <td>order wrong one shipper advertis adapt rd gen...</td>\n",
       "    </tr>\n",
       "    <tr>\n",
       "      <th>3</th>\n",
       "      <td>1</td>\n",
       "      <td>baaaaaaaaaaaddd</td>\n",
       "      <td>act one main charact shawne bad cheer appear g...</td>\n",
       "      <td>baaaaaaaaaaaddd act one main charact shawne ba...</td>\n",
       "    </tr>\n",
       "    <tr>\n",
       "      <th>4</th>\n",
       "      <td>1</td>\n",
       "      <td>aw incoher mess film</td>\n",
       "      <td>terribl blaxploit featur virtual incoher last ...</td>\n",
       "      <td>aw incoher mess film terribl blaxploit featur ...</td>\n",
       "    </tr>\n",
       "    <tr>\n",
       "      <th>...</th>\n",
       "      <td>...</td>\n",
       "      <td>...</td>\n",
       "      <td>...</td>\n",
       "      <td>...</td>\n",
       "    </tr>\n",
       "    <tr>\n",
       "      <th>495</th>\n",
       "      <td>5</td>\n",
       "      <td>excel pedal</td>\n",
       "      <td>instal rode first time excel use spd mountain ...</td>\n",
       "      <td>excel pedal instal rode first time excel use s...</td>\n",
       "    </tr>\n",
       "    <tr>\n",
       "      <th>496</th>\n",
       "      <td>5</td>\n",
       "      <td>game awesom</td>\n",
       "      <td>recommend game truli best thing blizzard relea...</td>\n",
       "      <td>game awesom recommend game truli best thing bl...</td>\n",
       "    </tr>\n",
       "    <tr>\n",
       "      <th>497</th>\n",
       "      <td>5</td>\n",
       "      <td>plug</td>\n",
       "      <td>plug find mine want play pokemon red sp look e...</td>\n",
       "      <td>plug plug find mine want play pokemon red sp l...</td>\n",
       "    </tr>\n",
       "    <tr>\n",
       "      <th>498</th>\n",
       "      <td>5</td>\n",
       "      <td>new awar</td>\n",
       "      <td>book brought new awar woman last supper never ...</td>\n",
       "      <td>new awar book brought new awar woman last supp...</td>\n",
       "    </tr>\n",
       "    <tr>\n",
       "      <th>499</th>\n",
       "      <td>5</td>\n",
       "      <td>love</td>\n",
       "      <td>typic waffl iron one applianc use kitchen stur...</td>\n",
       "      <td>love typic waffl iron one applianc use kitchen...</td>\n",
       "    </tr>\n",
       "  </tbody>\n",
       "</table>\n",
       "<p>500 rows × 4 columns</p>\n",
       "</div>"
      ],
      "text/plain": [
       "     class_index          review_title  \\\n",
       "0              1                durabl   \n",
       "1              1          full distort   \n",
       "2              1                         \n",
       "3              1       baaaaaaaaaaaddd   \n",
       "4              1  aw incoher mess film   \n",
       "..           ...                   ...   \n",
       "495            5           excel pedal   \n",
       "496            5           game awesom   \n",
       "497            5                  plug   \n",
       "498            5              new awar   \n",
       "499            5                  love   \n",
       "\n",
       "                                           review_text  \\\n",
       "0    band last backlight remain stem alway spring b...   \n",
       "1    one thing great u write anyth call book someon...   \n",
       "2    order wrong one shipper advertis adapt rd gene...   \n",
       "3    act one main charact shawne bad cheer appear g...   \n",
       "4    terribl blaxploit featur virtual incoher last ...   \n",
       "..                                                 ...   \n",
       "495  instal rode first time excel use spd mountain ...   \n",
       "496  recommend game truli best thing blizzard relea...   \n",
       "497  plug find mine want play pokemon red sp look e...   \n",
       "498  book brought new awar woman last supper never ...   \n",
       "499  typic waffl iron one applianc use kitchen stur...   \n",
       "\n",
       "                                           review_full  \n",
       "0    durabl band last backlight remain stem alway s...  \n",
       "1    full distort one thing great u write anyth cal...  \n",
       "2     order wrong one shipper advertis adapt rd gen...  \n",
       "3    baaaaaaaaaaaddd act one main charact shawne ba...  \n",
       "4    aw incoher mess film terribl blaxploit featur ...  \n",
       "..                                                 ...  \n",
       "495  excel pedal instal rode first time excel use s...  \n",
       "496  game awesom recommend game truli best thing bl...  \n",
       "497  plug plug find mine want play pokemon red sp l...  \n",
       "498  new awar book brought new awar woman last supp...  \n",
       "499  love typic waffl iron one applianc use kitchen...  \n",
       "\n",
       "[500 rows x 4 columns]"
      ]
     },
     "execution_count": 78,
     "metadata": {},
     "output_type": "execute_result"
    }
   ],
   "source": [
    "train_df_s"
   ]
  },
  {
   "cell_type": "markdown",
   "metadata": {},
   "source": [
    "## Nabo bais\n"
   ]
  },
  {
   "cell_type": "markdown",
   "metadata": {},
   "source": [
    "## Neural Minds\n"
   ]
  },
  {
   "cell_type": "markdown",
   "metadata": {},
   "source": [
    "## Tree com Ramos\n"
   ]
  }
 ],
 "metadata": {
  "interpreter": {
   "hash": "6111d4c6dbb885f82f170581359db7d779fdb08e793d86d543f28cf7cecf7a39"
  },
  "kernelspec": {
   "display_name": "Python 3.10.2 64-bit",
   "language": "python",
   "name": "python3"
  },
  "language_info": {
   "codemirror_mode": {
    "name": "ipython",
    "version": 3
   },
   "file_extension": ".py",
   "mimetype": "text/x-python",
   "name": "python",
   "nbconvert_exporter": "python",
   "pygments_lexer": "ipython3",
   "version": "3.10.2"
  },
  "orig_nbformat": 4
 },
 "nbformat": 4,
 "nbformat_minor": 2
}
