{
 "cells": [
  {
   "cell_type": "markdown",
   "metadata": {},
   "source": [
    "# Amazon Reviews for SA fine-grained 5 clases CSV\n"
   ]
  },
  {
   "cell_type": "code",
   "execution_count": 88,
   "metadata": {},
   "outputs": [
    {
     "name": "stderr",
     "output_type": "stream",
     "text": [
      "[nltk_data] Downloading package stopwords to C:\\Users\\Margarida\n",
      "[nltk_data]     Viera\\AppData\\Roaming\\nltk_data...\n",
      "[nltk_data]   Package stopwords is already up-to-date!\n",
      "[nltk_data] Downloading package punkt to C:\\Users\\Margarida\n",
      "[nltk_data]     Viera\\AppData\\Roaming\\nltk_data...\n",
      "[nltk_data]   Package punkt is already up-to-date!\n"
     ]
    }
   ],
   "source": [
    "import seaborn as sb\n",
    "import matplotlib.pyplot as plt\n",
    "\n",
    "import numpy as np\n",
    "import pandas as pd\n",
    "import re\n",
    "\n",
    "import nltk\n",
    "from nltk.tokenize import word_tokenize\n",
    "from nltk.stem.porter import PorterStemmer\n",
    "nltk.download('stopwords')\n",
    "nltk.download('punkt')\n",
    "\n",
    "from sklearn.pipeline import Pipeline\n",
    "from sklearn.feature_extraction.text import CountVectorizer, TfidfTransformer\n",
    "from sklearn.model_selection import train_test_split\n",
    "from sklearn.naive_bayes import GaussianNB, MultinomialNB\n",
    "from sklearn.tree import DecisionTreeClassifier\n",
    "from sklearn.metrics import confusion_matrix\n",
    "\n",
    "pd.options.mode.chained_assignment = None\n",
    "#from wordcloud import WordCloud\n"
   ]
  },
  {
   "cell_type": "markdown",
   "metadata": {},
   "source": [
    "## Dataset\n"
   ]
  },
  {
   "cell_type": "code",
   "execution_count": 89,
   "metadata": {},
   "outputs": [],
   "source": [
    "train_df = pd.read_csv('../docs/train.csv')\n",
    "test_df = pd.read_csv('../docs/train.csv')\n"
   ]
  },
  {
   "cell_type": "code",
   "execution_count": 90,
   "metadata": {},
   "outputs": [],
   "source": [
    "# Shorten the number of samples from every class_index type (n = 200000)\n",
    "\n",
    "classes = []\n",
    "n_samples = 100\n",
    "\n",
    "for i in range(1, 6):\n",
    "    classes.append(train_df.query(f'class_index == {i}').sample(n=n_samples))\n",
    "\n",
    "train_df_s = pd.concat(classes)\n",
    "train_df_s.reset_index(drop=True, inplace=True)\n"
   ]
  },
  {
   "cell_type": "markdown",
   "metadata": {},
   "source": [
    "## Exploratory analysis\n"
   ]
  },
  {
   "cell_type": "code",
   "execution_count": 91,
   "metadata": {},
   "outputs": [
    {
     "data": {
      "text/plain": [
       "class_index     0\n",
       "review_title    0\n",
       "review_text     0\n",
       "dtype: int64"
      ]
     },
     "execution_count": 91,
     "metadata": {},
     "output_type": "execute_result"
    }
   ],
   "source": [
    "# checking for presence of null values that might interfere with data processing\n",
    "train_df_s.isna().sum()\n"
   ]
  },
  {
   "cell_type": "code",
   "execution_count": 92,
   "metadata": {},
   "outputs": [
    {
     "data": {
      "text/plain": [
       "Text(0.5, 1.0, 'Rating Distribution')"
      ]
     },
     "execution_count": 92,
     "metadata": {},
     "output_type": "execute_result"
    },
    {
     "data": {
      "image/png": "[encoded data removed]",
      "text/plain": [
       "<Figure size 432x288 with 1 Axes>"
      ]
     },
     "metadata": {
      "needs_background": "light"
     },
     "output_type": "display_data"
    }
   ],
   "source": [
    "sb.countplot(x='class_index', data=train_df_s)\n",
    "plt.title('Rating Distribution')\n"
   ]
  },
  {
   "cell_type": "markdown",
   "metadata": {},
   "source": [
    "## Preprocess data\n"
   ]
  },
  {
   "cell_type": "code",
   "execution_count": 93,
   "metadata": {},
   "outputs": [],
   "source": [
    "train_df_s['review_full'] = train_df_s['review_title']\n",
    "\n",
    "stop_words = set(nltk.corpus.stopwords.words('english'))\n",
    "\n",
    "stemmer = PorterStemmer()\n",
    "\n",
    "# traversing all dataframe's rows\n",
    "for i in range(train_df_s.shape[0]):\n",
    "\n",
    "    # process review's title\n",
    "    title = re.sub('[^a-zA-Z]', ' ', train_df_s['review_title'][i])\n",
    "    title_tokens = word_tokenize(title)\n",
    "    title_stems = [stemmer.stem(w) for w in title_tokens if w not in stop_words] \n",
    "    train_df_s['review_title'][i] = ' '.join(title_stems)\n",
    "\n",
    "    # process review's text\n",
    "    text = re.sub(\"[^a-zA-Z]\", \" \", train_df_s['review_text'][i])\n",
    "    text_tokens = word_tokenize(text)\n",
    "    text_stems = [stemmer.stem(w) for w in text_tokens if w not in stop_words]\n",
    "    train_df_s['review_text'][i] = ' '.join(text_stems)\n",
    "\n",
    "    train_df_s['review_full'][i] = f\"{train_df_s['review_title'][i]} {train_df_s['review_text'][i]}\"\n"
   ]
  },
  {
   "cell_type": "code",
   "execution_count": 94,
   "metadata": {},
   "outputs": [
    {
     "data": {
      "text/html": [
       "<div>\n",
       "<style scoped>\n",
       "    .dataframe tbody tr th:only-of-type {\n",
       "        vertical-align: middle;\n",
       "    }\n",
       "\n",
       "    .dataframe tbody tr th {\n",
       "        vertical-align: top;\n",
       "    }\n",
       "\n",
       "    .dataframe thead th {\n",
       "        text-align: right;\n",
       "    }\n",
       "</style>\n",
       "<table border=\"1\" class=\"dataframe\">\n",
       "  <thead>\n",
       "    <tr style=\"text-align: right;\">\n",
       "      <th></th>\n",
       "      <th>class_index</th>\n",
       "      <th>review_title</th>\n",
       "      <th>review_text</th>\n",
       "      <th>review_full</th>\n",
       "    </tr>\n",
       "  </thead>\n",
       "  <tbody>\n",
       "    <tr>\n",
       "      <th>0</th>\n",
       "      <td>1</td>\n",
       "      <td>poor perform krup</td>\n",
       "      <td>our krup coffe maker never made decent cup cof...</td>\n",
       "      <td>poor perform krup our krup coffe maker never m...</td>\n",
       "    </tr>\n",
       "    <tr>\n",
       "      <th>1</th>\n",
       "      <td>1</td>\n",
       "      <td>first total recal</td>\n",
       "      <td>desecr memori philip k dick word advic estat i...</td>\n",
       "      <td>first total recal desecr memori philip k dick ...</td>\n",
       "    </tr>\n",
       "    <tr>\n",
       "      <th>2</th>\n",
       "      <td>1</td>\n",
       "      <td>doe play</td>\n",
       "      <td>region encod will play devic sold us canada re...</td>\n",
       "      <td>doe play region encod will play devic sold us ...</td>\n",
       "    </tr>\n",
       "    <tr>\n",
       "      <th>3</th>\n",
       "      <td>1</td>\n",
       "      <td>veri disappoint</td>\n",
       "      <td>the hitachi magic wand massag advertis speed t...</td>\n",
       "      <td>veri disappoint the hitachi magic wand massag ...</td>\n",
       "    </tr>\n",
       "    <tr>\n",
       "      <th>4</th>\n",
       "      <td>1</td>\n",
       "      <td>disappoint</td>\n",
       "      <td>i thought turn standard book spice bedroom wou...</td>\n",
       "      <td>disappoint i thought turn standard book spice ...</td>\n",
       "    </tr>\n",
       "    <tr>\n",
       "      <th>...</th>\n",
       "      <td>...</td>\n",
       "      <td>...</td>\n",
       "      <td>...</td>\n",
       "      <td>...</td>\n",
       "    </tr>\n",
       "    <tr>\n",
       "      <th>495</th>\n",
       "      <td>5</td>\n",
       "      <td>willa cather earli work</td>\n",
       "      <td>i ador classic it rare i current read book tol...</td>\n",
       "      <td>willa cather earli work i ador classic it rare...</td>\n",
       "    </tr>\n",
       "    <tr>\n",
       "      <th>496</th>\n",
       "      <td>5</td>\n",
       "      <td>excel book</td>\n",
       "      <td>an extraordinari classic children adult enjoy ...</td>\n",
       "      <td>excel book an extraordinari classic children a...</td>\n",
       "    </tr>\n",
       "    <tr>\n",
       "      <th>497</th>\n",
       "      <td>5</td>\n",
       "      <td>best occupi</td>\n",
       "      <td>my lil month old love tubbi she could without ...</td>\n",
       "      <td>best occupi my lil month old love tubbi she co...</td>\n",
       "    </tr>\n",
       "    <tr>\n",
       "      <th>498</th>\n",
       "      <td>5</td>\n",
       "      <td>beauti tiara</td>\n",
       "      <td>problem order came realli fast even betterthan...</td>\n",
       "      <td>beauti tiara problem order came realli fast ev...</td>\n",
       "    </tr>\n",
       "    <tr>\n",
       "      <th>499</th>\n",
       "      <td>5</td>\n",
       "      <td>hard place hard put</td>\n",
       "      <td>hard place crime alcohol heart wrench true sto...</td>\n",
       "      <td>hard place hard put hard place crime alcohol h...</td>\n",
       "    </tr>\n",
       "  </tbody>\n",
       "</table>\n",
       "<p>500 rows × 4 columns</p>\n",
       "</div>"
      ],
      "text/plain": [
       "     class_index             review_title  \\\n",
       "0              1        poor perform krup   \n",
       "1              1        first total recal   \n",
       "2              1                 doe play   \n",
       "3              1          veri disappoint   \n",
       "4              1               disappoint   \n",
       "..           ...                      ...   \n",
       "495            5  willa cather earli work   \n",
       "496            5               excel book   \n",
       "497            5              best occupi   \n",
       "498            5             beauti tiara   \n",
       "499            5      hard place hard put   \n",
       "\n",
       "                                           review_text  \\\n",
       "0    our krup coffe maker never made decent cup cof...   \n",
       "1    desecr memori philip k dick word advic estat i...   \n",
       "2    region encod will play devic sold us canada re...   \n",
       "3    the hitachi magic wand massag advertis speed t...   \n",
       "4    i thought turn standard book spice bedroom wou...   \n",
       "..                                                 ...   \n",
       "495  i ador classic it rare i current read book tol...   \n",
       "496  an extraordinari classic children adult enjoy ...   \n",
       "497  my lil month old love tubbi she could without ...   \n",
       "498  problem order came realli fast even betterthan...   \n",
       "499  hard place crime alcohol heart wrench true sto...   \n",
       "\n",
       "                                           review_full  \n",
       "0    poor perform krup our krup coffe maker never m...  \n",
       "1    first total recal desecr memori philip k dick ...  \n",
       "2    doe play region encod will play devic sold us ...  \n",
       "3    veri disappoint the hitachi magic wand massag ...  \n",
       "4    disappoint i thought turn standard book spice ...  \n",
       "..                                                 ...  \n",
       "495  willa cather earli work i ador classic it rare...  \n",
       "496  excel book an extraordinari classic children a...  \n",
       "497  best occupi my lil month old love tubbi she co...  \n",
       "498  beauti tiara problem order came realli fast ev...  \n",
       "499  hard place hard put hard place crime alcohol h...  \n",
       "\n",
       "[500 rows x 4 columns]"
      ]
     },
     "execution_count": 94,
     "metadata": {},
     "output_type": "execute_result"
    }
   ],
   "source": [
    "train_df_s\n"
   ]
  },
  {
   "cell_type": "markdown",
   "metadata": {},
   "source": [
    "## Machine Learning"
   ]
  },
  {
   "cell_type": "markdown",
   "metadata": {},
   "source": [
    "### Train test split"
   ]
  },
  {
   "cell_type": "code",
   "execution_count": 102,
   "metadata": {},
   "outputs": [],
   "source": [
    "corpus = train_df_s['review_full'].values\n",
    "\n",
    "count_vectorizer = CountVectorizer()\n",
    "freqs = count_vectorizer.fit_transform(corpus)\n",
    "vocabulary = count_vectorizer.get_feature_names_out()\n",
    "\n",
    "X = Pipeline([\n",
    "    ('count_vectorizer', CountVectorizer(vocabulary=vocabulary)),\n",
    "    ('tfidf_transformer', TfidfTransformer())\n",
    "]).fit_transform(corpus)\n",
    "y = train_df_s['class_index'].values\n",
    "\n",
    "# 70% for training and 30% for testing\n",
    "X_train, X_test, y_train, y_test = train_test_split(X, y, test_size=0.3)\n"
   ]
  },
  {
   "cell_type": "markdown",
   "metadata": {},
   "source": [
    "### Naive Bayes\n"
   ]
  },
  {
   "cell_type": "code",
   "execution_count": 103,
   "metadata": {},
   "outputs": [
    {
     "name": "stdout",
     "output_type": "stream",
     "text": [
      "Test score:  0.29333333333333333\n"
     ]
    },
    {
     "data": {
      "text/plain": [
       "Text(0, 0.5, 'predictions')"
      ]
     },
     "execution_count": 103,
     "metadata": {},
     "output_type": "execute_result"
    },
    {
     "data": {
      "image/png": "[encoded data removed]",
      "text/plain": [
       "<Figure size 432x288 with 1 Axes>"
      ]
     },
     "metadata": {
      "needs_background": "light"
     },
     "output_type": "display_data"
    }
   ],
   "source": [
    "gnb_model = MultinomialNB()\n",
    "gnb_model.fit(X_train, y_train)\n",
    "y_pred = gnb_model.predict(X_test)\n",
    "\n",
    "test_score = gnb_model.score(X_test, y_test)\n",
    "print('Test score: ', test_score)\n",
    "\n",
    "plt.scatter(y_test, y_pred, alpha=0.5)\n",
    "plt.title('Comparison between real values and model predictions')\n",
    "plt.xlabel('real values')\n",
    "plt.ylabel('predictions')\n"
   ]
  },
  {
   "cell_type": "markdown",
   "metadata": {},
   "source": [
    "### Decision Tree\n"
   ]
  },
  {
   "cell_type": "markdown",
   "metadata": {},
   "source": [
    "### Neural Networks\n"
   ]
  }
 ],
 "metadata": {
  "interpreter": {
   "hash": "6111d4c6dbb885f82f170581359db7d779fdb08e793d86d543f28cf7cecf7a39"
  },
  "kernelspec": {
   "display_name": "Python 3.10.2 64-bit",
   "language": "python",
   "name": "python3"
  },
  "language_info": {
   "codemirror_mode": {
    "name": "ipython",
    "version": 3
   },
   "file_extension": ".py",
   "mimetype": "text/x-python",
   "name": "python",
   "nbconvert_exporter": "python",
   "pygments_lexer": "ipython3",
   "version": "3.10.2"
  },
  "orig_nbformat": 4
 },
 "nbformat": 4,
 "nbformat_minor": 2
}
